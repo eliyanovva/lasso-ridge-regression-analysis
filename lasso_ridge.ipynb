{
 "cells": [
  {
   "cell_type": "code",
   "execution_count": 2,
   "metadata": {},
   "outputs": [],
   "source": [
    "import numpy as np\n",
    "import pandas as pd\n",
    "from sklearn.linear_model import Ridge\n",
    "from sklearn.model_selection import GridSearchCV\n",
    "from sklearn.model_selection import RepeatedKFold\n",
    "from sklearn.model_selection import train_test_split\n",
    "\n",
    "import matplotlib.pyplot as plt\n",
    "from sklearn.preprocessing import StandardScaler\n",
    "from sklearn.decomposition import PCA\n",
    "from sklearn.pipeline import Pipeline\n",
    "import statsmodels.api as sm\n",
    "from sklearn import metrics\n",
    "from sklearn.linear_model import LinearRegression\n",
    "from statsmodels.stats.outliers_influence import variance_inflation_factor\n",
    "from imblearn.over_sampling import RandomOverSampler\n",
    "# Load data in a dataframe:\n"
   ]
  },
  {
   "cell_type": "code",
   "execution_count": 26,
   "metadata": {},
   "outputs": [
    {
     "name": "stdout",
     "output_type": "stream",
     "text": [
      "(6825, 15)\n"
     ]
    },
    {
     "data": {
      "image/png": "[encoded data removed]",
      "text/plain": [
       "<Figure size 432x288 with 9 Axes>"
      ]
     },
     "metadata": {
      "needs_background": "light"
     },
     "output_type": "display_data"
    }
   ],
   "source": [
    "df = pd.read_csv(\"Video_Games_Sales_as_at_22_Dec_2016.csv\").dropna().drop('Name', axis='columns')\n",
    "print(df.shape)\n",
    "df.hist()\n",
    "\n",
    "y = df['Global_Sales']\n",
    "X = df.drop('Global_Sales',axis='columns') #for convinience"
   ]
  },
  {
   "cell_type": "code",
   "execution_count": 4,
   "metadata": {},
   "outputs": [
    {
     "name": "stdout",
     "output_type": "stream",
     "text": [
      "(6825, 1620)\n"
     ]
    }
   ],
   "source": [
    "X_dummies = pd.get_dummies(X, columns=['Platform', 'Year_of_Release', 'Genre', 'Publisher', 'Developer', 'Rating'])\n",
    "print(X_dummies.shape)"
   ]
  },
  {
   "cell_type": "code",
   "execution_count": 5,
   "metadata": {},
   "outputs": [],
   "source": [
    "#vif = [variance_inflation_factor(data, i) for i in range(data.shape[1])]\n",
    "#for i in range(9):\n",
    "#    print(\"VIF of \" + df.columns[i] + \": \" + str(vif[i]))"
   ]
  },
  {
   "cell_type": "code",
   "execution_count": 6,
   "metadata": {},
   "outputs": [
    {
     "name": "stdout",
     "output_type": "stream",
     "text": [
      "0.9999883073308689\n"
     ]
    }
   ],
   "source": [
    "X_dummies['constant'] = [1]*X_dummies.shape[0] #for linear reg\n",
    "#data = X_dummies.to_numpy()\n",
    "Xtrain,Xtest,ytrain,ytest = train_test_split(X_dummies,y,random_state =0)\n",
    "\n",
    "model = LinearRegression()\n",
    "model.fit(Xtrain, ytrain)\n",
    "\n",
    "print(model.score(Xtest, ytest))\n"
   ]
  },
  {
   "cell_type": "code",
   "execution_count": 7,
   "metadata": {},
   "outputs": [
    {
     "name": "stdout",
     "output_type": "stream",
     "text": [
      "-0.0048531903930483546\n",
      "{'alpha': 0.55}\n"
     ]
    }
   ],
   "source": [
    "ridge_model = Ridge()\n",
    "grid = dict()\n",
    "grid['alpha'] = np.arange(0, 1, 0.01)\n",
    "cv = RepeatedKFold(n_splits=10, n_repeats=3, random_state=1)\n",
    "search = GridSearchCV(\n",
    "    ridge_model,\n",
    "    grid,\n",
    "    scoring='neg_mean_absolute_error',\n",
    "    cv=3,\n",
    "    n_jobs=-1\n",
    ")\n",
    "\n",
    "results = search.fit(Xtrain, ytrain)\n",
    "\n",
    "#print(results.best_score_)\n",
    "print(results.best_params_)\n"
   ]
  },
  {
   "cell_type": "code",
   "execution_count": 10,
   "metadata": {},
   "outputs": [
    {
     "name": "stdout",
     "output_type": "stream",
     "text": [
      "{'alpha': 1.0}\n"
     ]
    }
   ],
   "source": [
    "grid['alpha'] = 10.0**np.arange(0, 10)\n",
    "cv = RepeatedKFold(n_splits=10, n_repeats=3, random_state=1)\n",
    "search = GridSearchCV(\n",
    "    ridge_model,\n",
    "    grid,\n",
    "    scoring='neg_mean_absolute_error',\n",
    "    cv=3,\n",
    "    n_jobs=-1\n",
    ")\n",
    "\n",
    "results = search.fit(Xtrain, ytrain)\n",
    "\n",
    "#print(results.best_score_)\n",
    "print(results.best_params_)\n"
   ]
  },
  {
   "cell_type": "code",
   "execution_count": 9,
   "metadata": {},
   "outputs": [
    {
     "name": "stdout",
     "output_type": "stream",
     "text": [
      "0.9999887443314822\n"
     ]
    }
   ],
   "source": [
    "updated_ridge_model = Ridge(alpha=0.55)\n",
    "updated_ridge_model.fit(Xtrain, ytrain)\n",
    "\n",
    "print(updated_ridge_model.score(Xtest, ytest))"
   ]
  },
  {
   "cell_type": "code",
   "execution_count": 11,
   "metadata": {},
   "outputs": [
    {
     "name": "stdout",
     "output_type": "stream",
     "text": [
      "0.9999882697000435\n"
     ]
    }
   ],
   "source": [
    "updated_ridge_model = Ridge(alpha=1)\n",
    "updated_ridge_model.fit(Xtrain, ytrain)\n",
    "\n",
    "print(updated_ridge_model.score(Xtest, ytest))"
   ]
  },
  {
   "cell_type": "code",
   "execution_count": 12,
   "metadata": {},
   "outputs": [
    {
     "name": "stderr",
     "output_type": "stream",
     "text": [
      "C:\\Users\\bg0ttkv\\.pyenv\\pyenv-win\\versions\\3.7.9\\lib\\site-packages\\sklearn\\model_selection\\_search.py:926: UserWarning: With alpha=0, this algorithm does not converge well. You are advised to use the LinearRegression estimator\n",
      "  self.best_estimator_.fit(X, y, **fit_params)\n",
      "C:\\Users\\bg0ttkv\\.pyenv\\pyenv-win\\versions\\3.7.9\\lib\\site-packages\\sklearn\\linear_model\\_coordinate_descent.py:648: UserWarning: Coordinate descent with no regularization may lead to unexpected results and is discouraged.\n",
      "  coef_, l1_reg, l2_reg, X, y, max_iter, tol, rng, random, positive\n"
     ]
    },
    {
     "name": "stdout",
     "output_type": "stream",
     "text": [
      "{'alpha': 0.0}\n"
     ]
    }
   ],
   "source": [
    "from sklearn.linear_model import Lasso\n",
    "\n",
    "lasso_model = Lasso()\n",
    "grid = dict()\n",
    "grid['alpha'] = np.arange(0, 1, 0.01)\n",
    "cv = RepeatedKFold(n_splits=10, n_repeats=3, random_state=1)\n",
    "search = GridSearchCV(\n",
    "    lasso_model,\n",
    "    grid,\n",
    "    scoring='neg_mean_absolute_error',\n",
    "    cv=3,\n",
    "    n_jobs=-1\n",
    ")\n",
    "\n",
    "results = search.fit(Xtrain, ytrain)\n",
    "\n",
    "#print(results.best_score_)\n",
    "print(results.best_params_)\n"
   ]
  },
  {
   "cell_type": "code",
   "execution_count": 13,
   "metadata": {},
   "outputs": [
    {
     "name": "stdout",
     "output_type": "stream",
     "text": [
      "{'alpha': 1.0}\n"
     ]
    }
   ],
   "source": [
    "grid['alpha'] = 10.0**np.arange(0, 10)\n",
    "cv = RepeatedKFold(n_splits=10, n_repeats=3, random_state=1)\n",
    "search = GridSearchCV(\n",
    "    lasso_model,\n",
    "    grid,\n",
    "    scoring='neg_mean_absolute_error',\n",
    "    cv=3,\n",
    "    n_jobs=-1\n",
    ")\n",
    "\n",
    "results = search.fit(Xtrain, ytrain)\n",
    "\n",
    "#print(results.best_score_)\n",
    "print(results.best_params_)\n",
    "print(results.best_estimator_.named_steps['model'].coef_)"
   ]
  },
  {
   "cell_type": "code",
   "execution_count": 23,
   "metadata": {},
   "outputs": [
    {
     "name": "stdout",
     "output_type": "stream",
     "text": [
      "[ 0.75540576  0.          0.         ...  0.         -0.\n",
      "  0.        ]\n",
      "4\n"
     ]
    }
   ],
   "source": [
    "coefficients = search.best_estimator_.coef_\n",
    "importance = np.abs(coefficients)\n",
    "print(search.best_estimator_.coef_)\n",
    "\n",
    "nonzero_coefs = 0\n",
    "for c in coefficients:\n",
    "    if c != 0:\n",
    "        nonzero_coefs +=1\n",
    "\n",
    "print(nonzero_coefs)"
   ]
  },
  {
   "cell_type": "code",
   "execution_count": 28,
   "metadata": {},
   "outputs": [
    {
     "name": "stdout",
     "output_type": "stream",
     "text": [
      "['NA_Sales' 'Critic_Score' 'Critic_Count' 'User_Count']\n",
      "0.9999882697000435\n"
     ]
    }
   ],
   "source": [
    "updated_lasso_model = Lasso(alpha=1.0)\n",
    "updated_lasso_model.fit(Xtrain, ytrain)\n",
    "\n",
    "print(np.array(X_dummies.columns)[importance > 0])\n",
    "\n",
    "print(updated_ridge_model.score(Xtest, ytest))"
   ]
  },
  {
   "cell_type": "code",
   "execution_count": null,
   "metadata": {},
   "outputs": [],
   "source": []
  }
 ],
 "metadata": {
  "interpreter": {
   "hash": "86fff61a5d48ed435efa88e5edbe7e9f28b09bd1382daec5afa4095fae77e211"
  },
  "kernelspec": {
   "display_name": "Python 3.7.9 64-bit ('3.7.9': pyenv)",
   "language": "python",
   "name": "python3"
  },
  "language_info": {
   "codemirror_mode": {
    "name": "ipython",
    "version": 3
   },
   "file_extension": ".py",
   "mimetype": "text/x-python",
   "name": "python",
   "nbconvert_exporter": "python",
   "pygments_lexer": "ipython3",
   "version": "3.7.9"
  },
  "orig_nbformat": 4
 },
 "nbformat": 4,
 "nbformat_minor": 2
}
